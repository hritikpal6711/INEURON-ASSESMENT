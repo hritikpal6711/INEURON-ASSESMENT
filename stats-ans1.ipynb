{
 "cells": [
  {
   "cell_type": "markdown",
   "id": "36cae68c",
   "metadata": {},
   "source": [
    "Q-1. A university wants to understand the relationship between the SAT scores of its applicants and their college GPA. They collect data on 500 students, including their SAT scores (out of 1600) and their college GPA (on a 4.0 scale). They find that the correlation coefficient between SAT scores and college GPA is 0.7. What does this correlation coefficient indicate about the relationship between SAT scores and college GPA?"
   ]
  },
  {
   "cell_type": "raw",
   "id": "c8cc7661",
   "metadata": {},
   "source": [
    "Ans. The correlation coefficient describes how one variable moves in relation to another. A positive correlation indicates that the two move in the same direction, with a value of 1 denoting a perfect positive correlation. A value of -1 shows a perfect negative, or inverse, correlation, while zero means no linear correlation exists. The range of correlation coefficient is -1 to +1.\n",
    "\n",
    "There are many correlations coefficient formula’s but here we chose Pearson Correlation for example to calculate correlation coefficient. So, to calculate the Pearson correlation, start by determining each variable's standard deviation as well as the covariance between them. The correlation coefficient is covariance divided by the product of the two variables' standard deviations.\n"
   ]
  },
  {
   "cell_type": "code",
   "execution_count": null,
   "id": "b40cc632",
   "metadata": {},
   "outputs": [],
   "source": []
  }
 ],
 "metadata": {
  "kernelspec": {
   "display_name": "Python 3 (ipykernel)",
   "language": "python",
   "name": "python3"
  },
  "language_info": {
   "codemirror_mode": {
    "name": "ipython",
    "version": 3
   },
   "file_extension": ".py",
   "mimetype": "text/x-python",
   "name": "python",
   "nbconvert_exporter": "python",
   "pygments_lexer": "ipython3",
   "version": "3.10.4"
  }
 },
 "nbformat": 4,
 "nbformat_minor": 5
}
