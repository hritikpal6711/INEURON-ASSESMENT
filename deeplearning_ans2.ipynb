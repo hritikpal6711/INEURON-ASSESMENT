{
  "nbformat": 4,
  "nbformat_minor": 0,
  "metadata": {
    "colab": {
      "provenance": []
    },
    "kernelspec": {
      "name": "python3",
      "display_name": "Python 3"
    },
    "language_info": {
      "name": "python"
    }
  },
  "cells": [
    {
      "cell_type": "code",
      "execution_count": 17,
      "metadata": {
        "id": "oUp6fMPQX8jo"
      },
      "outputs": [],
      "source": [
        "import torch\n",
        "import torch.nn as nn\n",
        "\n",
        "# Model 1: SimpleCNN\n",
        "model1 = nn.Sequential(\n",
        "    nn.Conv2d(3, 16, kernel_size=3, stride=1, padding=1),\n",
        "    nn.ReLU(inplace=True),\n",
        "    nn.MaxPool2d(kernel_size=2),\n",
        "    nn.Conv2d(16, 32, kernel_size=3, stride=1, padding=1),\n",
        "    nn.ReLU(inplace=True),\n",
        "    nn.MaxPool2d(kernel_size=2),\n",
        "    nn.Flatten(),\n",
        "    nn.Linear(32*8*8, 128),\n",
        "    nn.ReLU(inplace=True),\n",
        "    nn.Linear(128, 10)\n",
        ")\n",
        "\n",
        "# Model 2: DeeperCNN\n",
        "model2 = nn.Sequential(\n",
        "    nn.Conv2d(3, 32, kernel_size=3, stride=1, padding=1),\n",
        "    nn.ReLU(inplace=True),\n",
        "    nn.Conv2d(32, 64, kernel_size=3, stride=1, padding=1),\n",
        "    nn.ReLU(inplace=True),\n",
        "    nn.MaxPool2d(kernel_size=2),\n",
        "    nn.Conv2d(64, 128, kernel_size=3, stride=1, padding=1),\n",
        "    nn.ReLU(inplace=True),\n",
        "    nn.Conv2d(128, 128, kernel_size=3, stride=1, padding=1),\n",
        "    nn.ReLU(inplace=True),\n",
        "    nn.MaxPool2d(kernel_size=2),\n",
        "    nn.Flatten(),\n",
        "    nn.Linear(128*8*8, 512),\n",
        "    nn.ReLU(inplace=True),\n",
        "    nn.Linear(512, 10)\n",
        ")\n",
        "\n",
        "# Model 3: ResNet\n",
        "model3 = nn.Sequential(\n",
        "    nn.Conv2d(3, 32, kernel_size=3, stride=1, padding=1),\n",
        "    nn.ReLU(inplace=True),\n",
        "    nn.Conv2d(32, 32, kernel_size=3, stride=1, padding=1),\n",
        "    nn.ReLU(inplace=True),\n",
        "    nn.MaxPool2d(kernel_size=2),\n",
        "    nn.Conv2d(32, 64, kernel_size=3, stride=1, padding=1),\n",
        "    nn.ReLU(inplace=True),\n",
        "    nn.Conv2d(64, 64, kernel_size=3, stride=1, padding=1),\n",
        "    nn.ReLU(inplace=True),\n",
        "    nn.MaxPool2d(kernel_size=2),\n",
        "    nn.Flatten(),\n",
        "    nn.Linear(64*8*8, 512),\n",
        "    nn.ReLU(inplace=True),\n",
        "    nn.Linear(512, 10)\n",
        ")\n",
        "\n",
        "# Model 4: VGGNet\n",
        "model4 = nn.Sequential(\n",
        "    nn.Conv2d(3, 64, kernel_size=3, stride=1, padding=1),\n",
        "    nn.ReLU(inplace=True),\n",
        "    nn.MaxPool2d(kernel_size=2),\n",
        "    nn.Conv2d(64, 128, kernel_size=3, stride=1, padding=1),\n",
        "    nn.ReLU(inplace=True),\n",
        "    nn.MaxPool2d(kernel_size=2),\n",
        "    nn.Conv2d(128, 256, kernel_size=3, stride=1, padding=1),\n",
        "    nn.ReLU(inplace=True),\n",
        "    nn.Conv2d(256, 256, kernel_size=3, stride=1, padding=1),\n",
        "    nn.ReLU(inplace=True),\n",
        "    nn.MaxPool2d(kernel_size=2),\n",
        "    nn.Conv2d(256, 512, kernel_size=3, stride=1, padding=1),\n",
        "    nn.ReLU(inplace=True),\n",
        "    nn.Conv2d(512, 512, kernel_size=3, stride=1, padding=1),\n",
        "    nn.ReLU(inplace=True))\n"
      ]
    },
    {
      "cell_type": "code",
      "source": [],
      "metadata": {
        "id": "jOjsmajKY0J0"
      },
      "execution_count": 14,
      "outputs": []
    },
    {
      "cell_type": "code",
      "source": [
        "# Model 5: DenseNet\n",
        "model5 = nn.Sequential(\n",
        "    nn.Conv2d(3, 64, kernel_size=3, stride=1, padding=1),\n",
        "    nn.ReLU(inplace=True),\n",
        "    nn.Conv2d(64, 128, kernel_size=3, stride=1, padding=1),\n",
        "    nn.ReLU(inplace=True),\n",
        "    nn.MaxPool2d(kernel_size=2),\n",
        "    nn.Conv2d(128, 256, kernel_size=3, stride=1, padding=1),\n",
        "    nn.ReLU(inplace=True),\n",
        "    nn.Conv2d(256, 256, kernel_size=3, stride=1, padding=1),\n",
        "    nn.ReLU(inplace=True),\n",
        "    nn.MaxPool2d(kernel_size=2),\n",
        "    nn.Flatten(),\n",
        "    nn.Linear(256*8*8, 512),\n",
        "    nn.ReLU(inplace=True),\n",
        "    nn.Linear(512, 10)\n",
        ")\n"
      ],
      "metadata": {
        "id": "DkTL28P-ZM7S"
      },
      "execution_count": 18,
      "outputs": []
    },
    {
      "cell_type": "code",
      "source": [],
      "metadata": {
        "id": "Ls7XZCxQZovo"
      },
      "execution_count": 23,
      "outputs": []
    },
    {
      "cell_type": "code",
      "source": [],
      "metadata": {
        "id": "W0DsYeITb54v"
      },
      "execution_count": null,
      "outputs": []
    }
  ]
}