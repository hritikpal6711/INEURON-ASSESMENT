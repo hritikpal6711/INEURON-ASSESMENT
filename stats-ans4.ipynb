{
 "cells": [
  {
   "cell_type": "markdown",
   "id": "d085ec8b",
   "metadata": {},
   "source": [
    "Q-4. A group of 20 friends decide to play a game in which they each write a number\n",
    "between 1 and 20 on a slip of paper and put it into a hat. They then draw one slip of paper\n",
    "at random. What is the probability that the number on the slip of paper is a perfect square\n",
    "(i.e., 1, 4, 9, or 16)?"
   ]
  },
  {
   "cell_type": "raw",
   "id": "878e24b0",
   "metadata": {},
   "source": [
    "Probability = Number of favorable outcomes / Total number of possible outcomes\n",
    "\n",
    "Number of favorable outcomes=4(1,4,9,16)\n",
    "Total number of possible outcomes=20(1 to 20)\n",
    "\n",
    "Probability= 4/20= 1/5= 0.2\n",
    "\n",
    "So, the probability that the number drawn from the hat is a perfect square is 1/5 or 0.2."
   ]
  },
  {
   "cell_type": "code",
   "execution_count": null,
   "id": "04cc0ca0",
   "metadata": {},
   "outputs": [],
   "source": []
  }
 ],
 "metadata": {
  "kernelspec": {
   "display_name": "Python 3 (ipykernel)",
   "language": "python",
   "name": "python3"
  },
  "language_info": {
   "codemirror_mode": {
    "name": "ipython",
    "version": 3
   },
   "file_extension": ".py",
   "mimetype": "text/x-python",
   "name": "python",
   "nbconvert_exporter": "python",
   "pygments_lexer": "ipython3",
   "version": "3.10.4"
  }
 },
 "nbformat": 4,
 "nbformat_minor": 5
}
