{
 "cells": [
  {
   "cell_type": "markdown",
   "id": "2cfe0bf7",
   "metadata": {},
   "source": [
    "Question5- Write a program to download the data from the given API link and then extract the following data with proper formatting"
   ]
  },
  {
   "cell_type": "code",
   "execution_count": 1,
   "id": "6d1461f8",
   "metadata": {},
   "outputs": [
    {
     "name": "stdout",
     "output_type": "stream",
     "text": [
      "Show Name: Westworld\n",
      "Language: English\n",
      "Status: Ended\n",
      "Episodes:\n",
      "  - The Original: Season 1, Episode 1 (2016-10-02)\n",
      "  - Chestnut: Season 1, Episode 2 (2016-10-09)\n",
      "  - The Stray: Season 1, Episode 3 (2016-10-16)\n",
      "  - Dissonance Theory: Season 1, Episode 4 (2016-10-23)\n",
      "  - Contrapasso: Season 1, Episode 5 (2016-10-30)\n",
      "  - The Adversary: Season 1, Episode 6 (2016-11-06)\n",
      "  - Trompe L'Oeil: Season 1, Episode 7 (2016-11-13)\n",
      "  - Trace Decay: Season 1, Episode 8 (2016-11-20)\n",
      "  - The Well-Tempered Clavier: Season 1, Episode 9 (2016-11-27)\n",
      "  - The Bicameral Mind: Season 1, Episode 10 (2016-12-04)\n",
      "  - Journey Into Night: Season 2, Episode 1 (2018-04-22)\n",
      "  - Reunion: Season 2, Episode 2 (2018-04-29)\n",
      "  - Virtù e Fortuna: Season 2, Episode 3 (2018-05-06)\n",
      "  - The Riddle of the Sphinx: Season 2, Episode 4 (2018-05-13)\n",
      "  - Akane No Mai: Season 2, Episode 5 (2018-05-20)\n",
      "  - Phase Space: Season 2, Episode 6 (2018-05-27)\n",
      "  - Les Écorchés: Season 2, Episode 7 (2018-06-03)\n",
      "  - Kiksuya: Season 2, Episode 8 (2018-06-10)\n",
      "  - Vanishing Point: Season 2, Episode 9 (2018-06-17)\n",
      "  - The Passenger: Season 2, Episode 10 (2018-06-24)\n",
      "  - Parce Domine: Season 3, Episode 1 (2020-03-15)\n",
      "  - The Winter Line: Season 3, Episode 2 (2020-03-22)\n",
      "  - The Absence of Field: Season 3, Episode 3 (2020-03-29)\n",
      "  - The Mother of Exiles: Season 3, Episode 4 (2020-04-05)\n",
      "  - Genre: Season 3, Episode 5 (2020-04-12)\n",
      "  - Decoherence: Season 3, Episode 6 (2020-04-19)\n",
      "  - Passed Pawn: Season 3, Episode 7 (2020-04-26)\n",
      "  - Crisis Theory: Season 3, Episode 8 (2020-05-03)\n",
      "  - The Auguries: Season 4, Episode 1 (2022-06-26)\n",
      "  - Well Enough Alone: Season 4, Episode 2 (2022-07-03)\n",
      "  - Années Folles: Season 4, Episode 3 (2022-07-10)\n",
      "  - Generation Loss: Season 4, Episode 4 (2022-07-17)\n",
      "  - Zhuangzi: Season 4, Episode 5 (2022-07-24)\n",
      "  - Fidelity: Season 4, Episode 6 (2022-07-31)\n",
      "  - Metanoia: Season 4, Episode 7 (2022-08-07)\n",
      "  - Que Será, Será: Season 4, Episode 8 (2022-08-14)\n"
     ]
    }
   ],
   "source": [
    "import requests\n",
    "\n",
    "# API endpoint\n",
    "api_url = \"http://api.tvmaze.com/singlesearch/shows?q=westworld&embed=episodes\"\n",
    "\n",
    "# Send GET request to the API\n",
    "response = requests.get(api_url)\n",
    "\n",
    "# Check if the request was successful\n",
    "if response.status_code == 200:\n",
    "    # Get the JSON response\n",
    "    data = response.json()\n",
    "    \n",
    "    # Extract the required data\n",
    "    show_name = data['name']\n",
    "    show_language = data['language']\n",
    "    show_status = data['status']\n",
    "    episodes = data['_embedded']['episodes']\n",
    "    \n",
    "    # Display the extracted data\n",
    "    print(\"Show Name:\", show_name)\n",
    "    print(\"Language:\", show_language)\n",
    "    print(\"Status:\", show_status)\n",
    "    print(\"Episodes:\")\n",
    "    \n",
    "    for episode in episodes:\n",
    "        episode_name = episode['name']\n",
    "        episode_season = episode['season']\n",
    "        episode_number = episode['number']\n",
    "        episode_airdate = episode['airdate']\n",
    "        \n",
    "        print(f\"  - {episode_name}: Season {episode_season}, Episode {episode_number} ({episode_airdate})\")\n",
    "else:\n",
    "    print(\"Failed to retrieve data from the API.\")\n"
   ]
  },
  {
   "cell_type": "code",
   "execution_count": null,
   "id": "1a8d2cba",
   "metadata": {},
   "outputs": [],
   "source": []
  }
 ],
 "metadata": {
  "kernelspec": {
   "display_name": "Python 3 (ipykernel)",
   "language": "python",
   "name": "python3"
  },
  "language_info": {
   "codemirror_mode": {
    "name": "ipython",
    "version": 3
   },
   "file_extension": ".py",
   "mimetype": "text/x-python",
   "name": "python",
   "nbconvert_exporter": "python",
   "pygments_lexer": "ipython3",
   "version": "3.10.4"
  }
 },
 "nbformat": 4,
 "nbformat_minor": 5
}
