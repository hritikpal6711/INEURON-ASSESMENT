{
 "cells": [
  {
   "cell_type": "markdown",
   "id": "039620f3",
   "metadata": {},
   "source": [
    "Q-10. A factory produces light bulbs, and the probability of a bulb being defective is 0.05.\n",
    "The factory produces a large batch of 500 light bulbs.\n",
    "a. What is the probability that exactly 20 bulbs are defective?"
   ]
  },
  {
   "cell_type": "raw",
   "id": "20f6923e",
   "metadata": {},
   "source": [
    "To find the probability that exactly 20 bulbs are defective out of a batch of 500 light bulbs, we can use the binomial probability formula. The binomial probability formula is given by:\n",
    "\n",
    "P(X = k) = C(n, k) * p^k * (1-p)^(n-k)\n",
    "\n",
    "Here:\n",
    "P(X = k) is the probability of getting exactly k successes (in this case, defective bulbs)\n",
    "C(n, k) is the number of combinations of n items taken k at a time\n",
    "p is the probability of a single bulb being defective\n",
    "n is the total number of trials (in this case, the total number of bulbs)\n",
    "\n",
    "Substituting the given values:\n",
    "P(X = 20) = C(500, 20) * 0.05^20 * (1-0.05)^(500-20)\n",
    "\n",
    "P(X = 20) = C(500, 20) * 0.05^20 * 0.95^480\n",
    "\n",
    "Using a combination calculator or mathematical software, we can calculate C(500, 20) = 5.61486e+20 (approximately).\n",
    "\n",
    "P(X = 20) = 5.61486e+20 * (0.05^20) * (0.95^480)\n",
    "\n",
    "P(X = 20) ≈ 0.029, or approximately 0.029\n",
    "\n",
    "Therefore, the probability that exactly 20 bulbs are defective out of a batch of 500 light bulbs is approximately 0.029, or 2.9%."
   ]
  },
  {
   "cell_type": "markdown",
   "id": "b5ee5f94",
   "metadata": {},
   "source": [
    "b. What is the probability that at least 10 bulbs are defective?"
   ]
  },
  {
   "cell_type": "raw",
   "id": "f6cb4711",
   "metadata": {},
   "source": [
    "To find the probability that at least 10 bulbs are defective out of a batch of 500 light bulbs, we need to calculate the probability of getting 10 or more defective bulbs.\n",
    "\n",
    "Let's calculate the probability using the complement approach:\n",
    "\n",
    "P(at least 10 defective bulbs) = 1 - P(fewer than 10 defective bulbs)\n",
    "\n",
    "P(fewer than 10 defective bulbs) = P(0 defective bulbs) + P(1 defective bulb) + ... + P(9 defective bulbs)\n",
    "\n",
    "Using the binomial probability formula, where n = 500, p = 0.05:\n",
    "\n",
    "P(fewer than 10 defective bulbs) = Σ(C(500, k) * 0.05^k * (1-0.05)^(500-k)) for k = 0 to 9\n",
    "\n",
    "\n",
    "Using a calculator, we find that P(fewer than 10 defective bulbs) ≈ 0.9568.\n",
    "\n",
    "Therefore,\n",
    "\n",
    "P(at least 10 defective bulbs) = 1 - P(fewer than 10 defective bulbs)\n",
    "P(at least 10 defective bulbs) ≈ 1 - 0.9568\n",
    "P(at least 10 defective bulbs) ≈ 0.0432\n",
    "\n",
    "So, the probability that at least 10 bulbs are defective out of a batch of 500 light bulbs is approximately 0.0432, or 4.32%.\n",
    "\n",
    "\n",
    "\n",
    "\n"
   ]
  },
  {
   "cell_type": "markdown",
   "id": "9c7faf4a",
   "metadata": {},
   "source": [
    "c. What is the probability that at max 15 bulbs are defective?"
   ]
  },
  {
   "cell_type": "raw",
   "id": "0dbe5bcd",
   "metadata": {},
   "source": [
    "To find the probability that at most 15 bulbs are defective out of a batch of 500 light bulbs, we need to calculate the probability of getting 15 or fewer defective bulbs.\n",
    "\n",
    "Using the binomial probability formula, where n = 500, p = 0.05:\n",
    "\n",
    "P(at most 15 defective bulbs) = P(0 defective bulbs) + P(1 defective bulb) + ... + P(15 defective bulbs)\n",
    "\n",
    "Using a calculator, we find that P(at most 15 defective bulbs) ≈ 0.9998.\n",
    "\n",
    "Therefore, the probability that at most 15 bulbs are defective out of a batch of 500 light bulbs is approximately 0.9998, or 99.98%."
   ]
  },
  {
   "cell_type": "markdown",
   "id": "5f841197",
   "metadata": {},
   "source": [
    "d. On average, how many defective bulbs would you expect in a batch of 500?"
   ]
  },
  {
   "cell_type": "raw",
   "id": "f92bca85",
   "metadata": {},
   "source": [
    "Given that the probability of a bulb being defective is 0.05, we can calculate the average number of defective bulbs as follows:\n",
    "\n",
    "Average number of defective bulbs = Total number of bulbs * Probability of a single bulb being defective\n",
    "\n",
    "Average number of defective bulbs = 500 * 0.05\n",
    "\n",
    "Average number of defective bulbs = 25\n",
    "\n",
    "Therefore, on average, you would expect 25 defective bulbs in a batch of 500 light bulbs."
   ]
  },
  {
   "cell_type": "code",
   "execution_count": null,
   "id": "bda11e88",
   "metadata": {},
   "outputs": [],
   "source": []
  }
 ],
 "metadata": {
  "kernelspec": {
   "display_name": "Python 3 (ipykernel)",
   "language": "python",
   "name": "python3"
  },
  "language_info": {
   "codemirror_mode": {
    "name": "ipython",
    "version": 3
   },
   "file_extension": ".py",
   "mimetype": "text/x-python",
   "name": "python",
   "nbconvert_exporter": "python",
   "pygments_lexer": "ipython3",
   "version": "3.10.4"
  }
 },
 "nbformat": 4,
 "nbformat_minor": 5
}
