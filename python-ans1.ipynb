{
 "cells": [
  {
   "cell_type": "markdown",
   "id": "074d2aff",
   "metadata": {},
   "source": [
    "## Question1- Write a program that takes a string as input, and counts the frequency of each word in the string, there might be repeated characters in the string. Your task is to find the highest frequency and returns the length of the highest-frequency word."
   ]
  },
  {
   "cell_type": "code",
   "execution_count": 8,
   "id": "8cb77314",
   "metadata": {},
   "outputs": [
    {
     "name": "stdout",
     "output_type": "stream",
     "text": [
      "Enter a sentence hello hello my name is hritik!\n",
      "length of hightest frequency word is 5\n"
     ]
    }
   ],
   "source": [
    "def repeat_frequency(str):\n",
    "    s={}\n",
    "    a=input((\"Enter a sentence \")) \n",
    "    a=a.split()\n",
    "    for i in a:\n",
    "        if i in s:\n",
    "            s[i]+=1 \n",
    "        else:\n",
    "            s[i]=1\n",
    "    ans=max(s,key=s.get)\n",
    "    print(\"length of hightest frequency word is {}\".format(len(ans))) \n",
    "\n",
    "repeat_frequency('xyz') #calling function"
   ]
  },
  {
   "cell_type": "raw",
   "id": "4ba5c21a",
   "metadata": {},
   "source": [
    "Explaination- From the given string we can note that the most frequent word is “hello” and\n",
    "the maximum number of characters in the word is 5"
   ]
  },
  {
   "cell_type": "code",
   "execution_count": 10,
   "id": "f53f1c44",
   "metadata": {},
   "outputs": [
    {
     "name": "stdout",
     "output_type": "stream",
     "text": [
      "Enter a sentence this this is not not a pen but but but a pencil\n",
      "length of hightest frequency word is 3\n"
     ]
    }
   ],
   "source": [
    "repeat_frequency('abc') #calling function"
   ]
  },
  {
   "cell_type": "raw",
   "id": "dc91fb68",
   "metadata": {},
   "source": [
    "Explaination- From the given string we can note that the most frequent word is “but” and\n",
    "the maximum number of characters in the word is 3"
   ]
  },
  {
   "cell_type": "markdown",
   "id": "9a9217fa",
   "metadata": {},
   "source": [
    "## _____________________________________________________________________________________________________________"
   ]
  },
  {
   "cell_type": "code",
   "execution_count": null,
   "id": "a6625feb",
   "metadata": {},
   "outputs": [],
   "source": []
  }
 ],
 "metadata": {
  "kernelspec": {
   "display_name": "Python 3 (ipykernel)",
   "language": "python",
   "name": "python3"
  },
  "language_info": {
   "codemirror_mode": {
    "name": "ipython",
    "version": 3
   },
   "file_extension": ".py",
   "mimetype": "text/x-python",
   "name": "python",
   "nbconvert_exporter": "python",
   "pygments_lexer": "ipython3",
   "version": "3.10.4"
  }
 },
 "nbformat": 4,
 "nbformat_minor": 5
}
