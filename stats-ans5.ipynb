{
 "cells": [
  {
   "cell_type": "markdown",
   "id": "7562b8f3",
   "metadata": {},
   "source": [
    "Q-5. A certain city has two taxi companies: Company A has 80% of the taxis and\n",
    "Company B has 20% of the taxis. Company A's taxis have a 95% success rate for picking\n",
    "up passengers on time, while Company B's taxis have a 90% success rate. If a randomly\n",
    "selected taxi is late, what is the probability that it belongs to Company A?"
   ]
  },
  {
   "cell_type": "markdown",
   "id": "4cf2472d",
   "metadata": {},
   "source": [
    "Ans.  A: The taxi belongs to Company A\n",
    "B: The taxi belongs to Company B\n",
    "X: The taxi is late\n",
    "    \n",
    "According to the problem:\n",
    "\n",
    "P(A) = 0.8 (Company A has 80% of the taxis)\n",
    "P(B) = 0.2 (Company B has 20% of the taxis)\n",
    "P(X|A) = 0.05 (Company A's taxis have a 95% success rate, which means a 5% failure rate or being late)\n",
    "P(X|B) = 0.10 (Company B's taxis have a 90% success rate, which means a 10% failure rate or being late)\n",
    "\n",
    "               Using Bayes' theorem, the formula is:\n",
    "P(X|L) = (P(A) * P(X|A)) / (P(A) * P(X|A) + P(B) * P(X|B))\n",
    "\n",
    "Substituting the given values:\n",
    "P(A|X) = (0.8 * 0.05) / (0.8 * 0.05 + 0.2 * 0.10)\n",
    "\n",
    "Calculating:\n",
    "P(A|X) = 0.04 / (0.04 + 0.02)\n",
    "P(A|X) = 0.04 / 0.06\n",
    "P(A|X) = 0.6667\n",
    "\n",
    "Therefore, the probability that a randomly selected taxi that is late belongs to Company A is approximately 0.6667 or 66.67%.\n",
    "\n",
    "\n",
    "\n",
    "\n",
    "\n",
    "\n"
   ]
  },
  {
   "cell_type": "code",
   "execution_count": null,
   "id": "bb2969bc",
   "metadata": {},
   "outputs": [],
   "source": []
  }
 ],
 "metadata": {
  "kernelspec": {
   "display_name": "Python 3 (ipykernel)",
   "language": "python",
   "name": "python3"
  },
  "language_info": {
   "codemirror_mode": {
    "name": "ipython",
    "version": 3
   },
   "file_extension": ".py",
   "mimetype": "text/x-python",
   "name": "python",
   "nbconvert_exporter": "python",
   "pygments_lexer": "ipython3",
   "version": "3.10.4"
  }
 },
 "nbformat": 4,
 "nbformat_minor": 5
}
