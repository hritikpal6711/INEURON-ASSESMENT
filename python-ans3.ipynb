{
 "cells": [
  {
   "cell_type": "markdown",
   "id": "71044734",
   "metadata": {},
   "source": [
    "Question 3: - Write a program, which would download the data from the provided link, and then read the data and convert that into properly structured data and return it in Excel format."
   ]
  },
  {
   "cell_type": "code",
   "execution_count": 1,
   "id": "21752ff7",
   "metadata": {},
   "outputs": [],
   "source": [
    "url1='https://raw.githubusercontent.com/Biuni/PokemonGO-Pokedex/master/pokedex.json'"
   ]
  },
  {
   "cell_type": "code",
   "execution_count": 2,
   "id": "bd3aa01d",
   "metadata": {},
   "outputs": [],
   "source": [
    "urll='url_new.json'"
   ]
  },
  {
   "cell_type": "code",
   "execution_count": 3,
   "id": "76a6e6c6",
   "metadata": {},
   "outputs": [],
   "source": [
    "import pandas as pd"
   ]
  },
  {
   "cell_type": "code",
   "execution_count": 4,
   "id": "3f27c67a",
   "metadata": {},
   "outputs": [
    {
     "name": "stdout",
     "output_type": "stream",
     "text": [
      "100% [..............................................................................] 81998 / 81998"
     ]
    },
    {
     "data": {
      "text/plain": [
       "'url_new (2).json'"
      ]
     },
     "execution_count": 4,
     "metadata": {},
     "output_type": "execute_result"
    }
   ],
   "source": [
    "import wget\n",
    "wget.download(url1,urll)   #downloading json dataset"
   ]
  },
  {
   "cell_type": "code",
   "execution_count": 5,
   "id": "de7416d9",
   "metadata": {},
   "outputs": [],
   "source": [
    "df1=pd.read_json('url_new.json')    #reading json dataset"
   ]
  },
  {
   "cell_type": "code",
   "execution_count": 6,
   "id": "a45af0c1",
   "metadata": {},
   "outputs": [],
   "source": [
    "excel='excel_file.xlsx'"
   ]
  },
  {
   "cell_type": "code",
   "execution_count": 7,
   "id": "2416ffda",
   "metadata": {},
   "outputs": [],
   "source": [
    "df1.to_excel('excel_file.xlsx')    #converting json file dataset to excel format"
   ]
  },
  {
   "cell_type": "code",
   "execution_count": 8,
   "id": "ccedc148",
   "metadata": {},
   "outputs": [
    {
     "data": {
      "text/html": [
       "<div>\n",
       "<style scoped>\n",
       "    .dataframe tbody tr th:only-of-type {\n",
       "        vertical-align: middle;\n",
       "    }\n",
       "\n",
       "    .dataframe tbody tr th {\n",
       "        vertical-align: top;\n",
       "    }\n",
       "\n",
       "    .dataframe thead th {\n",
       "        text-align: right;\n",
       "    }\n",
       "</style>\n",
       "<table border=\"1\" class=\"dataframe\">\n",
       "  <thead>\n",
       "    <tr style=\"text-align: right;\">\n",
       "      <th></th>\n",
       "      <th>pokemon</th>\n",
       "    </tr>\n",
       "  </thead>\n",
       "  <tbody>\n",
       "    <tr>\n",
       "      <th>0</th>\n",
       "      <td>{'id': 1, 'num': '001', 'name': 'Bulbasaur', '...</td>\n",
       "    </tr>\n",
       "    <tr>\n",
       "      <th>1</th>\n",
       "      <td>{'id': 2, 'num': '002', 'name': 'Ivysaur', 'im...</td>\n",
       "    </tr>\n",
       "    <tr>\n",
       "      <th>2</th>\n",
       "      <td>{'id': 3, 'num': '003', 'name': 'Venusaur', 'i...</td>\n",
       "    </tr>\n",
       "    <tr>\n",
       "      <th>3</th>\n",
       "      <td>{'id': 4, 'num': '004', 'name': 'Charmander', ...</td>\n",
       "    </tr>\n",
       "    <tr>\n",
       "      <th>4</th>\n",
       "      <td>{'id': 5, 'num': '005', 'name': 'Charmeleon', ...</td>\n",
       "    </tr>\n",
       "    <tr>\n",
       "      <th>...</th>\n",
       "      <td>...</td>\n",
       "    </tr>\n",
       "    <tr>\n",
       "      <th>146</th>\n",
       "      <td>{'id': 147, 'num': '147', 'name': 'Dratini', '...</td>\n",
       "    </tr>\n",
       "    <tr>\n",
       "      <th>147</th>\n",
       "      <td>{'id': 148, 'num': '148', 'name': 'Dragonair',...</td>\n",
       "    </tr>\n",
       "    <tr>\n",
       "      <th>148</th>\n",
       "      <td>{'id': 149, 'num': '149', 'name': 'Dragonite',...</td>\n",
       "    </tr>\n",
       "    <tr>\n",
       "      <th>149</th>\n",
       "      <td>{'id': 150, 'num': '150', 'name': 'Mewtwo', 'i...</td>\n",
       "    </tr>\n",
       "    <tr>\n",
       "      <th>150</th>\n",
       "      <td>{'id': 151, 'num': '151', 'name': 'Mew', 'img'...</td>\n",
       "    </tr>\n",
       "  </tbody>\n",
       "</table>\n",
       "<p>151 rows × 1 columns</p>\n",
       "</div>"
      ],
      "text/plain": [
       "                                               pokemon\n",
       "0    {'id': 1, 'num': '001', 'name': 'Bulbasaur', '...\n",
       "1    {'id': 2, 'num': '002', 'name': 'Ivysaur', 'im...\n",
       "2    {'id': 3, 'num': '003', 'name': 'Venusaur', 'i...\n",
       "3    {'id': 4, 'num': '004', 'name': 'Charmander', ...\n",
       "4    {'id': 5, 'num': '005', 'name': 'Charmeleon', ...\n",
       "..                                                 ...\n",
       "146  {'id': 147, 'num': '147', 'name': 'Dratini', '...\n",
       "147  {'id': 148, 'num': '148', 'name': 'Dragonair',...\n",
       "148  {'id': 149, 'num': '149', 'name': 'Dragonite',...\n",
       "149  {'id': 150, 'num': '150', 'name': 'Mewtwo', 'i...\n",
       "150  {'id': 151, 'num': '151', 'name': 'Mew', 'img'...\n",
       "\n",
       "[151 rows x 1 columns]"
      ]
     },
     "execution_count": 8,
     "metadata": {},
     "output_type": "execute_result"
    }
   ],
   "source": [
    "df1      #dataset in excel format"
   ]
  },
  {
   "cell_type": "code",
   "execution_count": 9,
   "id": "f66afb93",
   "metadata": {},
   "outputs": [
    {
     "data": {
      "text/html": [
       "<div>\n",
       "<style scoped>\n",
       "    .dataframe tbody tr th:only-of-type {\n",
       "        vertical-align: middle;\n",
       "    }\n",
       "\n",
       "    .dataframe tbody tr th {\n",
       "        vertical-align: top;\n",
       "    }\n",
       "\n",
       "    .dataframe thead th {\n",
       "        text-align: right;\n",
       "    }\n",
       "</style>\n",
       "<table border=\"1\" class=\"dataframe\">\n",
       "  <thead>\n",
       "    <tr style=\"text-align: right;\">\n",
       "      <th></th>\n",
       "      <th>pokemon</th>\n",
       "    </tr>\n",
       "  </thead>\n",
       "  <tbody>\n",
       "    <tr>\n",
       "      <th>0</th>\n",
       "      <td>{'id': 1, 'num': '001', 'name': 'Bulbasaur', '...</td>\n",
       "    </tr>\n",
       "    <tr>\n",
       "      <th>1</th>\n",
       "      <td>{'id': 2, 'num': '002', 'name': 'Ivysaur', 'im...</td>\n",
       "    </tr>\n",
       "    <tr>\n",
       "      <th>2</th>\n",
       "      <td>{'id': 3, 'num': '003', 'name': 'Venusaur', 'i...</td>\n",
       "    </tr>\n",
       "    <tr>\n",
       "      <th>3</th>\n",
       "      <td>{'id': 4, 'num': '004', 'name': 'Charmander', ...</td>\n",
       "    </tr>\n",
       "    <tr>\n",
       "      <th>4</th>\n",
       "      <td>{'id': 5, 'num': '005', 'name': 'Charmeleon', ...</td>\n",
       "    </tr>\n",
       "    <tr>\n",
       "      <th>5</th>\n",
       "      <td>{'id': 6, 'num': '006', 'name': 'Charizard', '...</td>\n",
       "    </tr>\n",
       "    <tr>\n",
       "      <th>6</th>\n",
       "      <td>{'id': 7, 'num': '007', 'name': 'Squirtle', 'i...</td>\n",
       "    </tr>\n",
       "    <tr>\n",
       "      <th>7</th>\n",
       "      <td>{'id': 8, 'num': '008', 'name': 'Wartortle', '...</td>\n",
       "    </tr>\n",
       "    <tr>\n",
       "      <th>8</th>\n",
       "      <td>{'id': 9, 'num': '009', 'name': 'Blastoise', '...</td>\n",
       "    </tr>\n",
       "    <tr>\n",
       "      <th>9</th>\n",
       "      <td>{'id': 10, 'num': '010', 'name': 'Caterpie', '...</td>\n",
       "    </tr>\n",
       "  </tbody>\n",
       "</table>\n",
       "</div>"
      ],
      "text/plain": [
       "                                             pokemon\n",
       "0  {'id': 1, 'num': '001', 'name': 'Bulbasaur', '...\n",
       "1  {'id': 2, 'num': '002', 'name': 'Ivysaur', 'im...\n",
       "2  {'id': 3, 'num': '003', 'name': 'Venusaur', 'i...\n",
       "3  {'id': 4, 'num': '004', 'name': 'Charmander', ...\n",
       "4  {'id': 5, 'num': '005', 'name': 'Charmeleon', ...\n",
       "5  {'id': 6, 'num': '006', 'name': 'Charizard', '...\n",
       "6  {'id': 7, 'num': '007', 'name': 'Squirtle', 'i...\n",
       "7  {'id': 8, 'num': '008', 'name': 'Wartortle', '...\n",
       "8  {'id': 9, 'num': '009', 'name': 'Blastoise', '...\n",
       "9  {'id': 10, 'num': '010', 'name': 'Caterpie', '..."
      ]
     },
     "execution_count": 9,
     "metadata": {},
     "output_type": "execute_result"
    }
   ],
   "source": [
    "df1.head(10)"
   ]
  },
  {
   "cell_type": "code",
   "execution_count": null,
   "id": "4bbe8598",
   "metadata": {},
   "outputs": [],
   "source": []
  }
 ],
 "metadata": {
  "kernelspec": {
   "display_name": "Python 3 (ipykernel)",
   "language": "python",
   "name": "python3"
  },
  "language_info": {
   "codemirror_mode": {
    "name": "ipython",
    "version": 3
   },
   "file_extension": ".py",
   "mimetype": "text/x-python",
   "name": "python",
   "nbconvert_exporter": "python",
   "pygments_lexer": "ipython3",
   "version": "3.10.4"
  }
 },
 "nbformat": 4,
 "nbformat_minor": 5
}
