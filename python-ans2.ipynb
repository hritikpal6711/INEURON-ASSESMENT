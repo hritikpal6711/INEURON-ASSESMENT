{
 "cells": [
  {
   "cell_type": "markdown",
   "id": "c74965e3",
   "metadata": {},
   "source": [
    "## Question2- Consider a string to be valid if all characters of the string appear the same number of times. It is also valid if he can remove just one character at the index in the string, and the remaining characters will occur the same number of times. Given a string, determine if it is valid. If so, return YES , otherwise return NO ."
   ]
  },
  {
   "cell_type": "code",
   "execution_count": 3,
   "id": "3f9583e4",
   "metadata": {},
   "outputs": [],
   "source": [
    "\n",
    "from collections import Counter\n",
    "\n",
    "def checkForVariation(strr):\n",
    "\n",
    "    a=input(\"Enter a sentence \") \n",
    "    frequency= Counter(a)\n",
    "\n",
    "\n",
    "    valuelist = list(frequency.values())\n",
    "\n",
    "\n",
    "    ValueCounter = Counter(valuelist)\n",
    "    if(len(ValueCounter) == 1):\n",
    "            return True\n",
    "    elif(len(ValueCounter) == 2 and\n",
    "            min(ValueCounter.values()) == 1):\n",
    "            return False\n",
    "\n",
    "\n",
    "    return False\n",
    "\n",
    "\n",
    "\n",
    "\n",
    "\n"
   ]
  },
  {
   "cell_type": "code",
   "execution_count": 4,
   "id": "7158684e",
   "metadata": {},
   "outputs": [
    {
     "name": "stdout",
     "output_type": "stream",
     "text": [
      "Enter a sentence hritik\n"
     ]
    },
    {
     "data": {
      "text/plain": [
       "False"
      ]
     },
     "execution_count": 4,
     "metadata": {},
     "output_type": "execute_result"
    }
   ],
   "source": [
    "checkForVariation('strr')"
   ]
  },
  {
   "cell_type": "code",
   "execution_count": 5,
   "id": "81cfe12c",
   "metadata": {},
   "outputs": [
    {
     "name": "stdout",
     "output_type": "stream",
     "text": [
      "Enter a sentence aabbcc\n"
     ]
    },
    {
     "data": {
      "text/plain": [
       "True"
      ]
     },
     "execution_count": 5,
     "metadata": {},
     "output_type": "execute_result"
    }
   ],
   "source": [
    "checkForVariation('strr')"
   ]
  },
  {
   "cell_type": "code",
   "execution_count": null,
   "id": "352b3a1b",
   "metadata": {},
   "outputs": [],
   "source": []
  }
 ],
 "metadata": {
  "kernelspec": {
   "display_name": "Python 3 (ipykernel)",
   "language": "python",
   "name": "python3"
  },
  "language_info": {
   "codemirror_mode": {
    "name": "ipython",
    "version": 3
   },
   "file_extension": ".py",
   "mimetype": "text/x-python",
   "name": "python",
   "nbconvert_exporter": "python",
   "pygments_lexer": "ipython3",
   "version": "3.10.4"
  }
 },
 "nbformat": 4,
 "nbformat_minor": 5
}
