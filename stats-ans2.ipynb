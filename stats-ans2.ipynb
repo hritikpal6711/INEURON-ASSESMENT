{
 "cells": [
  {
   "cell_type": "markdown",
   "id": "a5e543f7",
   "metadata": {},
   "source": [
    "Consider a dataset containing the heights (in centimeters) of 1000 individuals. The\n",
    "mean height is 170 cm with a standard deviation of 10 cm. The dataset is approximately\n",
    "normally distributed, and its skewness is approximately zero. \n",
    "Based on this information, answer the following questions:\n",
    "a. What percentage of individuals in the dataset have heights between 160 cm\n",
    "and 180 cm?"
   ]
  },
  {
   "cell_type": "markdown",
   "id": "6c2a1e36",
   "metadata": {},
   "source": [
    "Ans. Given individuals heights- 160cm and 180 cm\n",
    "mean height=170cm\n",
    "standard deviation=10cm\n",
    "\n",
    "so for the given problem statement, we need to find z-score for 180cm and 160cm\n",
    "\n",
    "z-score formula= (x-mean value)/standard deviation\n",
    "\n",
    "here x  is the value we want to find the z-score for (in this case, 160 cm and 180 cm)\n",
    "\n",
    "For 160 cm:\n",
    "z1 = (160 - 170) / 10 = -1\n",
    "\n",
    "For 180 cm:\n",
    "z2 = (180 - 170) / 10 = 1\n",
    "\n",
    "standard normal distribution table or use statistical software.\n",
    "\n",
    "The cumulative probability for z = -1 is approximately 0.1587.\n",
    "The cumulative probability for z = 1 is approximately 0.8413.\n",
    "\n",
    "To find the percentage of individuals between 160 cm and 180 cm, we subtract the cumulative probability for z = -1 from the cumulative probability for z = 1:\n",
    "\n",
    "Percentage = (0.8413 - 0.1587) * 100 = 68.26%\n",
    "\n",
    "Therefore, approximately 68.26% of individuals in the dataset have heights between 160 cm and 180 cm."
   ]
  },
  {
   "cell_type": "code",
   "execution_count": null,
   "id": "d6305a63",
   "metadata": {},
   "outputs": [],
   "source": []
  },
  {
   "cell_type": "markdown",
   "id": "f434dbe3",
   "metadata": {},
   "source": [
    "b. If we randomly select 100 individuals from the dataset, what is the probability\n",
    "that their average height is greater than 175 cm?"
   ]
  },
  {
   "cell_type": "markdown",
   "id": "42c94345",
   "metadata": {},
   "source": [
    "Ans. Given that the dataset is approximately normally distributed with a mean height of 170 cm and a standard deviation of 10 cm, we can assume that the sample means will also follow a normal distribution.\n",
    "\n",
    "The mean of the sample means will be the same as the mean of the original dataset, which is 170 cm.\n",
    "\n",
    "\n",
    "The standard deviation of the sample means (σx̄) can be calculated using the formula:\n",
    "\n",
    "standard deviation of the sample means̄ = standard deviation of the original dataset / sqrt(n)\n",
    "\n",
    "                                        ->  10 / sqrt(100) = 1\n",
    "\n",
    "Now, we can calculate the z-score for a sample mean of 175 cm:\n",
    "\n",
    "z-score=(given point- mean of the original dataset)/standard deviation of the sample mean\n",
    "\n",
    "z-score = (175 - 170) / 1 = 5\n",
    "\n",
    "Using a standard normal distribution table or statistical software, we can find the cumulative probability corresponding to z = 5.\n",
    "\n",
    "The cumulative probability for z = 5 is very close to 1 (almost 100%).\n",
    "\n",
    "Therefore, the probability that the average height of a random sample of 100 individuals is greater than 175 cm is approximately 1 or 100%."
   ]
  },
  {
   "cell_type": "code",
   "execution_count": null,
   "id": "52d756c6",
   "metadata": {},
   "outputs": [],
   "source": []
  },
  {
   "cell_type": "markdown",
   "id": "8c035b7d",
   "metadata": {},
   "source": [
    "c. Assuming the dataset follows a normal distribution, what is the z-score\n",
    "corresponding to a height of 185 cm?"
   ]
  },
  {
   "cell_type": "markdown",
   "id": "ab252896",
   "metadata": {},
   "source": [
    "To find the z-score, we have x=185cm, mean=170 and standard deviation=10cm\n",
    "\n",
    "z-score=(x-mean value)/standard deviation\n",
    "\n",
    "z-score= 185-170/10\n",
    "\n",
    "z-score=15/10=1.5\n",
    "\n",
    "therefore the z-score value corresponding to the height of 185cm is 1.5"
   ]
  },
  {
   "cell_type": "code",
   "execution_count": null,
   "id": "61968714",
   "metadata": {},
   "outputs": [],
   "source": []
  },
  {
   "cell_type": "markdown",
   "id": "2f6c70db",
   "metadata": {},
   "source": [
    "d. We know that 5% of the dataset has heights below a certain value. What is\n",
    "the approximate height corresponding to this threshold?"
   ]
  },
  {
   "cell_type": "markdown",
   "id": "1579e001",
   "metadata": {},
   "source": [
    "Ans. Since the dataset is assumed to follow a normal distribution, we can use a standard normal distribution table or statistical software to find the z-score that corresponds to a cumulative probability of 5%.\n",
    "\n",
    "In a standard normal distribution, a cumulative probability of 5% corresponds to a z-score of approximately -1.645.\n",
    "\n",
    "Using the formula for z-score:\n",
    "\n",
    "z-score=(x-mean value)/standard deviation\n",
    "\n",
    "-1.645= (x-170)/10\n",
    "-16.45=x-170\n",
    "x=153.55\n",
    "\n",
    "Therefore, the approximate height corresponding to the threshold where 5% of the dataset has heights below that value is approximately 153.55 cm."
   ]
  },
  {
   "cell_type": "code",
   "execution_count": null,
   "id": "eec75a57",
   "metadata": {},
   "outputs": [],
   "source": []
  },
  {
   "cell_type": "markdown",
   "id": "8d28b033",
   "metadata": {},
   "source": [
    "e. Calculate the coefficient of variation (CV) for the dataset."
   ]
  },
  {
   "cell_type": "markdown",
   "id": "be291ae6",
   "metadata": {},
   "source": [
    "Ans. Coefficient of variation(CV)=(standard deviation/ mean value)*100\n",
    "\n",
    "here given,\n",
    "standard deviation= 10cm\n",
    "and mean value=170cm\n",
    "\n",
    "CV=(10/170)*100\n",
    "\n",
    "CV=5.88"
   ]
  },
  {
   "cell_type": "code",
   "execution_count": null,
   "id": "3b8d8b0c",
   "metadata": {},
   "outputs": [],
   "source": []
  },
  {
   "cell_type": "markdown",
   "id": "c105c40d",
   "metadata": {},
   "source": [
    "f. Calculate the skewness of the dataset and interpret the result."
   ]
  },
  {
   "cell_type": "raw",
   "id": "f363a046",
   "metadata": {},
   "source": [
    "As given in the question, the dataset is normally distributed. So, there would be no skewness in the dataset or we can say the skewness in the dataset would be zero."
   ]
  },
  {
   "cell_type": "code",
   "execution_count": null,
   "id": "84f16173",
   "metadata": {},
   "outputs": [],
   "source": []
  }
 ],
 "metadata": {
  "kernelspec": {
   "display_name": "Python 3 (ipykernel)",
   "language": "python",
   "name": "python3"
  },
  "language_info": {
   "codemirror_mode": {
    "name": "ipython",
    "version": 3
   },
   "file_extension": ".py",
   "mimetype": "text/x-python",
   "name": "python",
   "nbconvert_exporter": "python",
   "pygments_lexer": "ipython3",
   "version": "3.10.4"
  }
 },
 "nbformat": 4,
 "nbformat_minor": 5
}
